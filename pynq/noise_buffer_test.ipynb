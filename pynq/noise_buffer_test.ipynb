{
 "cells": [
  {
   "cell_type": "code",
   "execution_count": 1,
   "id": "fe772be9-168d-4066-b366-5ca746a599ea",
   "metadata": {},
   "outputs": [],
   "source": [
    "import numpy as np\n",
    "import matplotlib.pyplot as plt\n",
    "import matplotlib as mpl\n",
    "import scipy.io\n",
    "import scipy.signal\n",
    "import time\n",
    "from noise_buffer_overlay import NoiseOverlay\n",
    "from datetime import datetime"
   ]
  },
  {
   "cell_type": "code",
   "execution_count": 81,
   "id": "6a8ca05a-7041-41cb-826d-24af876405c0",
   "metadata": {},
   "outputs": [
    {
     "name": "stdout",
     "output_type": "stream",
     "text": [
      "loading bitfile hw/top_biastini_32bitDDS_noise_buffer_ILA.bit\n",
      "loaded bitstream\n",
      "set clocks\n"
     ]
    }
   ],
   "source": [
    "ol = NoiseOverlay(bitfile_name='hw/top_biastini_32bitDDS_noise_buffer_ILA.bit',download=True,dbg=True,plot=False)"
   ]
  },
  {
   "cell_type": "code",
   "execution_count": 83,
   "id": "bb84e069-b754-4a9b-8f1c-a3bbf31e8e06",
   "metadata": {},
   "outputs": [
    {
     "name": "stdout",
     "output_type": "stream",
     "text": [
      "setting dac_prescale scale_factor to 0.5 (08000)\n",
      "setting dac_prescale scale_factor to 0.5 (08000)\n",
      "setting cos_scale to 3 (18dB attenuation)\n",
      "setting cos_scale to 3 (18dB attenuation)\n",
      "setting vga attenuation to 18dB\n",
      "packet = 0x212\n",
      "setting vga attenuation to 18dB\n",
      "packet = 0x10212\n",
      "setting pinc to 996147 (9.500e+05Hz)\n",
      "setting pinc to 996147 (9.500e+05Hz)\n"
     ]
    }
   ],
   "source": [
    "ol.set_dac_scale_factor(0.5,0)\n",
    "ol.set_dac_scale_factor(0.5,1)\n",
    "ol.set_dac_atten_dB(18,0)\n",
    "ol.set_dac_atten_dB(18,1)\n",
    "ol.set_vga_atten_dB(18,0)\n",
    "ol.set_vga_atten_dB(18,1)\n",
    "ol.set_freq_hz(950e3,0)\n",
    "ol.set_freq_hz(950e3,1)"
   ]
  },
  {
   "cell_type": "code",
   "execution_count": 88,
   "id": "d7c3e2e2-4340-4bcd-91f2-b3a99a31c66b",
   "metadata": {},
   "outputs": [
    {
     "data": {
      "text/plain": [
       "[<matplotlib.lines.Line2D at 0xffff600978b0>]"
      ]
     },
     "execution_count": 88,
     "metadata": {},
     "output_type": "execute_result"
    },
    {
     "data": {
      "image/png": "[encoded data removed]",
      "text/plain": [
       "<Figure size 432x288 with 1 Axes>"
      ]
     },
     "metadata": {
      "needs_background": "light"
     },
     "output_type": "display_data"
    }
   ],
   "source": [
    "# configure noise buffer and capture some data\n",
    "# configuration packet is 35 bits, so we need two words\n",
    "# {mode, start, stop, threshold_high, threshold_low}\n",
    "# always capture start: {0, 1, 0, 16'b0, 16'b1}\n",
    "# always capture stop: {0, 0, 1, 16'b0, 16'b1}\n",
    "start_pkt = [0x00ff, 0x2]\n",
    "stop_pkt = [0x00ff, 0x1]\n",
    "ol.noise_buffer.send_tx_pkt(start_pkt)\n",
    "time.sleep(0.01)\n",
    "ol.noise_buffer.send_tx_pkt(stop_pkt)\n",
    "ol.dma()\n",
    "plt.plot(ol.dma_buffer)"
   ]
  },
  {
   "cell_type": "code",
   "execution_count": 89,
   "id": "873c1e9b-b3ca-4bcf-a419-96e241055783",
   "metadata": {},
   "outputs": [
    {
     "name": "stderr",
     "output_type": "stream",
     "text": [
      "/tmp/ipykernel_1330/1042108181.py:8: VisibleDeprecationWarning: Creating an ndarray from ragged nested sequences (which is a list-or-tuple of lists-or-tuples-or ndarrays with different lengths or shapes) is deprecated. If you meant to do this, you must specify 'dtype=object' when creating the ndarray.\n",
      "  data = np.array([ch0, ch1])\n"
     ]
    }
   ],
   "source": [
    "ch0 = []\n",
    "ch1 = []\n",
    "for samp in ol.dma_buffer[:1000]:\n",
    "    if samp & 0x4:\n",
    "        ch1.append(samp & 0xf8)\n",
    "    else:\n",
    "        ch0.append(samp & 0xf8)\n",
    "data = np.array([ch0, ch1])"
   ]
  },
  {
   "cell_type": "code",
   "execution_count": 71,
   "id": "0340d655-b8c4-4e99-807f-b08996446212",
   "metadata": {},
   "outputs": [
    {
     "name": "stdout",
     "output_type": "stream",
     "text": [
      "750\n",
      "250\n"
     ]
    }
   ],
   "source": [
    "print(len(ch0))\n",
    "print(len(ch1))"
   ]
  },
  {
   "cell_type": "code",
   "execution_count": 75,
   "id": "bb0e95a7-33e2-4302-b13a-09d63b7dd295",
   "metadata": {},
   "outputs": [
    {
     "name": "stdout",
     "output_type": "stream",
     "text": [
      "['010', '010', '001', '000', '000', '100', '100', '000', '010', '010', '001', '000', '000', '100', '100', '000', '010', '010', '001', '000', '000', '100', '100', '000', '010', '010', '001', '000', '000', '100', '100', '000']\n"
     ]
    }
   ],
   "source": [
    "print([f'{(i & 0x7):03b}' for i in ol.dma_buffer[:32]])"
   ]
  },
  {
   "cell_type": "code",
   "execution_count": 105,
   "id": "e2881afc-2332-4606-aa81-add4d2e7fbc9",
   "metadata": {},
   "outputs": [
    {
     "name": "stdout",
     "output_type": "stream",
     "text": [
      "['0000', '6594', '40dc', '0006', '0000', '59de', '40dc', '0006']\n",
      "['02aa', '0026', '0332', '0006', '03aa', '0026', '03fa', '0086']\n"
     ]
    }
   ],
   "source": [
    "print([f'{i:04x}' for i in ol.dma_buffer[8184:8192]])\n",
    "print([f'{i:04x}' for i in ol.dma_buffer[8192:8200]])\n",
    "#008603fa002603aa00060332002602aa"
   ]
  },
  {
   "cell_type": "code",
   "execution_count": 103,
   "id": "e561a515-d08d-4ac8-9ee0-e0a0591bf8ec",
   "metadata": {},
   "outputs": [
    {
     "data": {
      "text/plain": [
       "[<matplotlib.lines.Line2D at 0xffff65ac9540>]"
      ]
     },
     "execution_count": 103,
     "metadata": {},
     "output_type": "execute_result"
    },
    {
     "data": {
      "image/png": "[encoded data removed]",
      "text/plain": [
       "<Figure size 432x288 with 1 Axes>"
      ]
     },
     "metadata": {
      "needs_background": "light"
     },
     "output_type": "display_data"
    }
   ],
   "source": [
    "plt.plot(ol.dma_buffer[8180:8200])"
   ]
  },
  {
   "cell_type": "code",
   "execution_count": null,
   "id": "15c25477-aa73-4685-8f5c-b148f210be65",
   "metadata": {},
   "outputs": [],
   "source": []
  }
 ],
 "metadata": {
  "kernelspec": {
   "display_name": "Python 3 (ipykernel)",
   "language": "python",
   "name": "python3"
  },
  "language_info": {
   "codemirror_mode": {
    "name": "ipython",
    "version": 3
   },
   "file_extension": ".py",
   "mimetype": "text/x-python",
   "name": "python",
   "nbconvert_exporter": "python",
   "pygments_lexer": "ipython3",
   "version": "3.10.4"
  }
 },
 "nbformat": 4,
 "nbformat_minor": 5
}
