{
 "cells": [
  {
   "cell_type": "code",
   "execution_count": 1,
   "id": "fe772be9-168d-4066-b366-5ca746a599ea",
   "metadata": {},
   "outputs": [],
   "source": [
    "import numpy as np\n",
    "import matplotlib.pyplot as plt\n",
    "import matplotlib as mpl\n",
    "import scipy.io\n",
    "import scipy.signal\n",
    "import time\n",
    "from noise_buffer_overlay import NoiseOverlay\n",
    "from datetime import datetime"
   ]
  },
  {
   "cell_type": "code",
   "execution_count": 2,
   "id": "6a8ca05a-7041-41cb-826d-24af876405c0",
   "metadata": {},
   "outputs": [
    {
     "name": "stdout",
     "output_type": "stream",
     "text": [
      "loading bitfile hw/top_biastini_noise_buffer_corrected_fp.bit\n"
     ]
    },
    {
     "data": {
      "application/javascript": [
       "\n",
       "try {\n",
       "require(['notebook/js/codecell'], function(codecell) {\n",
       "  codecell.CodeCell.options_default.highlight_modes[\n",
       "      'magic_text/x-csrc'] = {'reg':[/^%%microblaze/]};\n",
       "  Jupyter.notebook.events.one('kernel_ready.Kernel', function(){\n",
       "      Jupyter.notebook.get_cells().map(function(cell){\n",
       "          if (cell.cell_type == 'code'){ cell.auto_highlight(); } }) ;\n",
       "  });\n",
       "});\n",
       "} catch (e) {};\n"
      ]
     },
     "metadata": {},
     "output_type": "display_data"
    },
    {
     "data": {
      "application/javascript": [
       "\n",
       "try {\n",
       "require(['notebook/js/codecell'], function(codecell) {\n",
       "  codecell.CodeCell.options_default.highlight_modes[\n",
       "      'magic_text/x-csrc'] = {'reg':[/^%%pybind11/]};\n",
       "  Jupyter.notebook.events.one('kernel_ready.Kernel', function(){\n",
       "      Jupyter.notebook.get_cells().map(function(cell){\n",
       "          if (cell.cell_type == 'code'){ cell.auto_highlight(); } }) ;\n",
       "  });\n",
       "});\n",
       "} catch (e) {};\n"
      ]
     },
     "metadata": {},
     "output_type": "display_data"
    },
    {
     "name": "stdout",
     "output_type": "stream",
     "text": [
      "loaded bitstream\n",
      "set clocks\n"
     ]
    }
   ],
   "source": [
    "ol = NoiseOverlay(bitfile_name='hw/top_biastini_noise_buffer_corrected_fp.bit',download=True,dbg=True,plot=False)"
   ]
  },
  {
   "cell_type": "code",
   "execution_count": 3,
   "id": "c62826b6-ec86-4605-b93f-baba47fe36bb",
   "metadata": {},
   "outputs": [
    {
     "name": "stdout",
     "output_type": "stream",
     "text": [
      "setting dac_prescale scale_factor to 0.0 (00000)\n",
      "setting dac_prescale scale_factor to 0.0 (00000)\n",
      "setting vga attenuation to 0dB\n",
      "packet = 0x200\n",
      "setting vga attenuation to 0dB\n",
      "packet = 0x10200\n",
      "setting adc_gain scale_factor to 1.0 (10000)\n",
      "setting adc_gain scale_factor to 1.0 (10000)\n"
     ]
    }
   ],
   "source": [
    "ol.set_dac_scale_factor(0,0)\n",
    "ol.set_dac_scale_factor(0,1)\n",
    "ol.set_vga_atten_dB(0,0)\n",
    "ol.set_vga_atten_dB(0,1)\n",
    "# to keep full scale, multiply by 0.5, but we can always adjust to improve dynamic range\n",
    "ol.set_adc_digital_gain(1,0)\n",
    "ol.set_adc_digital_gain(1,1)"
   ]
  },
  {
   "cell_type": "code",
   "execution_count": 123,
   "id": "3604e022-82dc-4972-b9ce-6bcc926a5dcd",
   "metadata": {},
   "outputs": [
    {
     "name": "stdout",
     "output_type": "stream",
     "text": [
      "setting discriminator thresholds 0.16-0.16\n",
      "packet = ['0x1470147', '0x0']\n",
      "sending start command with discriminator thresholds 327:327\n",
      "packet = ['0x1470147', '0x2']\n",
      "sending stop command with discriminator thresholds 327:327\n",
      "packet = ['0x1470147', '0x1']\n"
     ]
    }
   ],
   "source": [
    "# configure noise buffer and capture some data\n",
    "ol.set_discriminator_threshold(0.005*32)\n",
    "ol.start_capture()\n",
    "time.sleep(10)\n",
    "ol.stop_capture()\n",
    "time.sleep(0.1)\n",
    "ol.dma()"
   ]
  },
  {
   "cell_type": "code",
   "execution_count": 135,
   "id": "d7c3e2e2-4340-4bcd-91f2-b3a99a31c66b",
   "metadata": {},
   "outputs": [
    {
     "name": "stdout",
     "output_type": "stream",
     "text": [
      " processing channel\n",
      "n_timestamps = [ 0  1  2  3  5  6  7  8 10 11 12 13 15 16 17 18 20 21 22 23 25 26 27 28\n",
      " 30 31 32 33 35 36]\n",
      "raw channel data = ['0x57b6', '0xb682', '0xc12', '0x2', '0x19c', '0xbdd2', '0xb686', '0xc12', '0x2', '0x14c', '0xf916', '0xb686', '0xc12', '0x2', '0x14c', '0x47a2', '0xb696', '0xc12', '0x2', '0x15c', '0x5ab2', '0xb69e', '0xc12', '0x2', '0x184', '0x2b26', '0xb6aa', '0xc12', '0x2', '0x154', '0x4b02', '0xb6b2', '0xc12', '0x2', '0x16c', '0x5ad6', '0xb6b2', '0xc12', '0x2', '0x15c']\n",
      "bad timestamp near raw channel data index [58631 58632 58633 58635]\n",
      "bad timestamp near raw channel data index [58636 58637 58638 58640]\n",
      "bad timestamp near raw channel data index [58641 58642 58643 58645]\n",
      "bad timestamp near raw channel data index [58646 58647 58648 58650]\n",
      "bad timestamp near raw channel data index [58651 58652 58653 58656]\n",
      "bad timestamp near raw channel data index [58657 58658 58659 58661]\n",
      "bad timestamp near raw channel data index [58662 58663 58664 58666]\n",
      "bad timestamp near raw channel data index [58667 58668 58669 58671]\n",
      "bad timestamp near raw channel data index [58672 58673 58674 58676]\n",
      "bad timestamp near raw channel data index [58677 58678 58679 58681]\n",
      "additional errors suppressed\n",
      "raw channel data = [('0x0', 't', 58620), ('0x2e', 's', 58621), ('0x2c9d', 't', 58622), ('0x39e5', 't', 58623), ('0x305', 't', 58624), ('0x0', 't', 58625), ('0x29', 's', 58626), ('0x1757', 't', 58627), ('0x39ea', 't', 58628), ('0x305', 't', 58629), ('0x0', 't', 58630), ('0xdf7', 't', 58631), ('0x14e', 't', 58632), ('0x0', 't', 58633), ('0x1c', 's', 58634), ('0x326f', 't', 58635), ('0xdf7', 't', 58636), ('0x14e', 't', 58637), ('0x0', 't', 58638), ('0x22', 's', 58639)]\n",
      "type(t_0) = <class 'numpy.uint64'>\n",
      "raw_timestamp_words_grouped = [[0x15ed 0x2da0 0x304 0x0]\n",
      " [0x2f74 0x2da1 0x304 0x0]\n",
      " [0x3e45 0x2da1 0x304 0x0]\n",
      " ...\n",
      " [0x1003 0x14e 0x0 0xb42]\n",
      " [0x1003 0x14e 0x0 0xd7c]\n",
      " [0x1003 0x14e 0x0 0xee2]]\n",
      "timestamps[-1][0] = 0x304b6815ed\n",
      "timestamps[-1][-1] = 0x3b880000539003\n",
      "type(timestamps[-1][-1]) = <class 'numpy.uint64'>\n",
      "n_t_update = [-1  4  9 14 19 24 29 34 39 44 49 54 59 64 69 74 79 84 89 94]\n",
      "timestamps = [     0  22919  26712  80891 114879 160988 195795 196808 298922 345244\n",
      " 392821 450321 489239 575160 617463 641107 679228 731606 738372 756861]\n"
     ]
    },
    {
     "ename": "ValueError",
     "evalue": "could not broadcast input array from shape (5,) into shape (0,)",
     "output_type": "error",
     "traceback": [
      "\u001b[0;31m---------------------------------------------------------------------------\u001b[0m",
      "\u001b[0;31mValueError\u001b[0m                                Traceback (most recent call last)",
      "Input \u001b[0;32mIn [135]\u001b[0m, in \u001b[0;36m<cell line: 9>\u001b[0;34m()\u001b[0m\n\u001b[1;32m     82\u001b[0m lower \u001b[38;5;241m=\u001b[39m n_t_update[n] \u001b[38;5;28;01mif\u001b[39;00m n_0 \u001b[38;5;241m>\u001b[39m\u001b[38;5;241m=\u001b[39m \u001b[38;5;241m0\u001b[39m \u001b[38;5;28;01melse\u001b[39;00m \u001b[38;5;241m4\u001b[39m\n\u001b[1;32m     83\u001b[0m \u001b[38;5;66;03m# subtract extra 4 to offset for the timestamp samples\u001b[39;00m\n\u001b[0;32m---> 84\u001b[0m \u001b[43mtvec_raw\u001b[49m\u001b[43m[\u001b[49m\u001b[43mlower\u001b[49m\u001b[43m:\u001b[49m\u001b[43mn_t_update\u001b[49m\u001b[43m[\u001b[49m\u001b[43mn\u001b[49m\u001b[38;5;241;43m+\u001b[39;49m\u001b[38;5;241;43m1\u001b[39;49m\u001b[43m]\u001b[49m\u001b[43m]\u001b[49m \u001b[38;5;241m=\u001b[39m timestamps[\u001b[38;5;241m-\u001b[39m\u001b[38;5;241m1\u001b[39m][n] \u001b[38;5;241m-\u001b[39m t_0 \u001b[38;5;241m-\u001b[39m np\u001b[38;5;241m.\u001b[39mfloat128(\u001b[38;5;241m4\u001b[39m) \u001b[38;5;241m+\u001b[39m np\u001b[38;5;241m.\u001b[39marange(n_t_update[n\u001b[38;5;241m+\u001b[39m\u001b[38;5;241m1\u001b[39m] \u001b[38;5;241m-\u001b[39m n_t_update[n], dtype\u001b[38;5;241m=\u001b[39mnp\u001b[38;5;241m.\u001b[39mfloat128)\n\u001b[1;32m     85\u001b[0m \u001b[38;5;28;01mif\u001b[39;00m n_0 \u001b[38;5;241m>\u001b[39m\u001b[38;5;241m=\u001b[39m \u001b[38;5;241m0\u001b[39m:\n\u001b[1;32m     86\u001b[0m     \u001b[38;5;66;03m# we need to correct the first element, since it is 4 too small\u001b[39;00m\n\u001b[1;32m     87\u001b[0m     tvec_raw[lower] \u001b[38;5;241m=\u001b[39m timestamps[\u001b[38;5;241m-\u001b[39m\u001b[38;5;241m1\u001b[39m][n] \u001b[38;5;241m-\u001b[39m t_0\n",
      "\u001b[0;31mValueError\u001b[0m: could not broadcast input array from shape (5,) into shape (0,)"
     ]
    }
   ],
   "source": [
    "# process data to separate out channels and timestamp vs sample data\n",
    "# first check to see if we have any full timestamps\n",
    "# if we do, throw out all data until the sample before the first timestamp for each channel (since we don't know when it occurred)\n",
    "# if we don't, proceed\n",
    "ch = [np.take(ol.dma_buffer, np.asarray(ol.dma_buffer & 1 == i).nonzero()[0]) for i in range(2)]\n",
    "data = []\n",
    "tvec = []\n",
    "timestamps = []\n",
    "for c in ch:\n",
    "    print(f' processing channel')\n",
    "    # find the number of timestamps\n",
    "    n_timestamps = np.asarray(c & 2 == 2).nonzero()[0]\n",
    "    valid_timestamp = False\n",
    "    n_0 = 0\n",
    "    print(f'n_timestamps = {n_timestamps[:30]}')\n",
    "    print(f'raw channel data = {[hex(i) for i in c[:40]]}')\n",
    "    if len(n_timestamps) >= 4:\n",
    "        # find first valid timestamp\n",
    "        while True:\n",
    "            if n_0 + 3 > len(n_timestamps) - 1:\n",
    "                break\n",
    "            if (n_timestamps[n_0+3] == n_timestamps[n_0]+3):\n",
    "                # since n_timestamps is strictly increasing and takes on integer values,\n",
    "                # n_timestamps[n_0+3] == n_timestamps[n_0]+3 is equivalent to n_timestamps[n_0:n_0+4] = [i, i+1, i+2, i+3] for some i\n",
    "                valid_timestamp = True\n",
    "                break\n",
    "            n_0 += 1\n",
    "        # check for errors\n",
    "        n = n_0\n",
    "        err_count = 0\n",
    "        while True:\n",
    "            if n + 3 > len(n_timestamps) - 1:\n",
    "                break\n",
    "            error = False\n",
    "            for i in range(4):\n",
    "                if n_timestamps[n+i] != n_timestamps[n] + i:\n",
    "                    error = True\n",
    "            if error and err_count < 10:\n",
    "                print(f'bad timestamp near raw channel data index {n_timestamps[n:n+4]}')\n",
    "                err_count += 1\n",
    "            if err_count == 10:\n",
    "                print(f'additional errors suppressed')\n",
    "                err_count += 1\n",
    "            n += 4\n",
    "            \n",
    "    print(f\"raw channel data = {[(hex(x >> 2),'t',n+58620) if x & 2 == 2 else (hex(x >> 3),'s',n+58620) for n,x in enumerate(c[58620:58640])]}\")\n",
    "    # now n_timestamps[n_0] holds the index into c for the first valid timestamp\n",
    "    # extract the data\n",
    "    if (n_timestamps[n_0] == 0) or (not valid_timestamp):\n",
    "        # just ignore the existence of timestamps; we have a contiguous block of data\n",
    "        data.append(np.take(np.right_shift(c.astype(np.int16), 3)/2**13, np.asarray(c & 2 == 0).nonzero()[0]))\n",
    "    else:\n",
    "        # n_timestamps[n_0] > 0 and we have a valid timestamp\n",
    "        # trim all data up to the point before the first timestsamp\n",
    "        data.append(np.take(np.right_shift(c[n_timestamps[n_0]-1:].astype(np.int16), 3)/2**13, np.asarray(c[n_timestamps[n_0]-1:] & 2 == 0).nonzero()[0]))\n",
    "    # by default, no need to do anything fancy if we have no timestamps: we assume all data is consecutive\n",
    "            \n",
    "    if not valid_timestamp:\n",
    "        timestamps.append(np.array([], dtype=np.float64))\n",
    "        tvec.append(np.arange(data[-1].shape[0], dtype=np.float64))\n",
    "    else:\n",
    "        tvec_raw = np.zeros(c.shape[0], dtype=np.float64)\n",
    "        # update tvec with timestamp info\n",
    "        # now extrapolate between the supplied timestamps to get the timestamp for each data point\n",
    "        # index into original raw channel data for datapoints which should have a tvec update:\n",
    "        n_t_update = n_timestamps[n_0::4] - 1\n",
    "        raw_timestamp_words = np.take(np.right_shift(c.astype(np.uint16), 2), n_timestamps[n_0:])\n",
    "        raw_timestamp_words_grouped = raw_timestamp_words[:4*(len(raw_timestamp_words) // 4)].reshape((len(raw_timestamp_words)//4,4))\n",
    "        concat_timestamps = np.inner(raw_timestamp_words_grouped, 2**(14*np.arange(4, dtype=np.uint64)))\n",
    "        timestamps.append(concat_timestamps)\n",
    "        t_0 = timestamps[-1][0]\n",
    "        print(f'type(t_0) = {type(t_0)}')\n",
    "        print(f'raw_timestamp_words_grouped = {np.array2string(raw_timestamp_words_grouped, formatter={\"int\":lambda x: hex(x)})}')\n",
    "        print(f'timestamps[-1][0] = {hex(timestamps[-1][0])}')\n",
    "        print(f'timestamps[-1][-1] = {hex(timestamps[-1][-1])}')\n",
    "        print(f'type(timestamps[-1][-1]) = {type(timestamps[-1][-1])}')\n",
    "        #for i, timestamp in enumerate(timestamps):\n",
    "        print(f'n_t_update = {n_t_update[:20]}')\n",
    "        print(f'timestamps = {timestamps[-1][:20] - t_0}')\n",
    "        for n in range(len(n_t_update)-1):\n",
    "            # if n_0 == 0, then n_t_update will contain -1 for the first iteration\n",
    "            lower = n_t_update[n] if n_0 >= 0 else 4\n",
    "            # subtract extra 4 to offset for the timestamp samples\n",
    "            tvec_raw[lower:n_t_update[n+1]] = timestamps[-1][n] - t_0 - np.float128(4) + np.arange(n_t_update[n+1] - n_t_update[n], dtype=np.float128)\n",
    "            if n_0 >= 0:\n",
    "                # we need to correct the first element, since it is 4 too small\n",
    "                tvec_raw[lower] = timestamps[-1][n] - t_0\n",
    "        # update the end of the vector\n",
    "        tvec_raw[n_t_update[-1]:] = timestamps[-1][-1] - t_0 - 4 + np.arange(len(tvec_raw)-n_t_update[-1], dtype=np.float128)\n",
    "        tvec_raw[n_t_update[-1]] = timestamps[-1][-1] - t_0\n",
    "        # take only valid entries\n",
    "        tvec.append(np.take(tvec_raw[n_timestamps[n_0]-1:], np.asarray(c[n_timestamps[n_0]-1:] & 2 == 0).nonzero()[0]))\n",
    "        print(f'tvec = {tvec[-1][:20]}')"
   ]
  },
  {
   "cell_type": "code",
   "execution_count": 85,
   "id": "0340d655-b8c4-4e99-807f-b08996446212",
   "metadata": {},
   "outputs": [
    {
     "data": {
      "text/plain": [
       "<matplotlib.legend.Legend at 0xffff65826320>"
      ]
     },
     "execution_count": 85,
     "metadata": {},
     "output_type": "execute_result"
    },
    {
     "data": {
      "image/png": "[encoded data removed]",
      "text/plain": [
       "<Figure size 432x288 with 1 Axes>"
      ]
     },
     "metadata": {
      "needs_background": "light"
     },
     "output_type": "display_data"
    }
   ],
   "source": [
    "colors = plt.rcParams['axes.prop_cycle'].by_key()['color']\n",
    "for c in range(2):\n",
    "    plt.plot(tvec[c][:500]/32e3, data[c][:500], 'o-', label=f'CH {c}')\n",
    "    for thi in timestamps[c][:100] - timestamps[c][0]:\n",
    "        plt.axvline(x=thi/32e3, linewidth=0.5, color=colors[c])\n",
    "#plt.ylim(-0.1, 0.6)\n",
    "plt.xlim(-0.1, 100)\n",
    "#plt.xlim(5.8, 7)\n",
    "plt.xlabel(\"t [ms]\")\n",
    "plt.ylabel(\"ADC input [FS]\")\n",
    "plt.legend()"
   ]
  },
  {
   "cell_type": "code",
   "execution_count": 122,
   "id": "e6e7d26c-dbfb-4c6c-9207-83be1488fe80",
   "metadata": {},
   "outputs": [
    {
     "data": {
      "text/plain": [
       "[<matplotlib.lines.Line2D at 0xffff6b776080>]"
      ]
     },
     "execution_count": 122,
     "metadata": {},
     "output_type": "execute_result"
    },
    {
     "data": {
      "image/png": "[encoded data removed]",
      "text/plain": [
       "<Figure size 432x288 with 1 Axes>"
      ]
     },
     "metadata": {
      "needs_background": "light"
     },
     "output_type": "display_data"
    }
   ],
   "source": [
    "plt.plot(timestamps[0][:11000])"
   ]
  },
  {
   "cell_type": "code",
   "execution_count": null,
   "id": "d6544897-d967-4b02-845e-03b77724089d",
   "metadata": {},
   "outputs": [],
   "source": []
  }
 ],
 "metadata": {
  "kernelspec": {
   "display_name": "Python 3 (ipykernel)",
   "language": "python",
   "name": "python3"
  },
  "language_info": {
   "codemirror_mode": {
    "name": "ipython",
    "version": 3
   },
   "file_extension": ".py",
   "mimetype": "text/x-python",
   "name": "python",
   "nbconvert_exporter": "python",
   "pygments_lexer": "ipython3",
   "version": "3.10.4"
  }
 },
 "nbformat": 4,
 "nbformat_minor": 5
}
